{
 "cells": [
  {
   "cell_type": "code",
   "execution_count": null,
   "metadata": {},
   "outputs": [],
   "source": [
    "from confluent_kafka import Producer\n",
    "import pandas as pd\n",
    "import numpy as np\n",
    "# from faker import Faker\n",
    "import time\n",
    "import random\n",
    "\n",
    "def getStockDataVec():\n",
    "    df = pd.read_csv(\"./full_data.csv\")\n",
    "    df = df[['open_time', 'close', 'volume', 'count', 'taker_buy_volume', 'symbol']]\n",
    "    df.set_index('open_time', inplace=True)\n",
    "    symbol_mapping = {'ADABUSD': 0, 'ETHBUSD': 1, 'BNBBUSD': 2, 'BTCBUSD': 3, 'DOTBUSD': 4}\n",
    "    df['symbol'] = df['symbol'].map(symbol_mapping).fillna(df['symbol'])\n",
    "    return df\n",
    "\n",
    "def getState(sub_data):\n",
    "    return np.array(sub_data).reshape(1,-1)\n",
    "\n",
    "def producer():\n",
    "    # Khởi tạo Kafka producer\n",
    "    kafka_bootstrap_servers = 'kafka1:19091'  # Địa chỉ Kafka của các container Kafka\n",
    "    kafka_topic = 'trading3'  # Tên topic Kafka'\n",
    "    producer = Producer({'bootstrap.servers': kafka_bootstrap_servers})\n",
    "\n",
    "    data = getStockDataVec()\n",
    "    index = data.index\n",
    "   \n",
    "\n",
    "    # Gửi dữ liệu giả lập đến Kafka\n",
    "    for i in range(len(data/5)):\n",
    "        stream_data = getState(data.loc[index[i]])\n",
    "        print(\"Thu tu: \", i)\n",
    "        print(stream_data)\n",
    "        # print(stream_data.tobytes())\n",
    "        # print(np.frombuffer(stream_data.tobytes(), dtype=np.float64))\n",
    "        send_data_to_kafka(producer, kafka_topic, stream_data)\n",
    "\n",
    "        # Thời gian chờ giữa các lần gửi dữ liệu\n",
    "        time.sleep(5)\n",
    "        \n",
    "\n",
    "def send_data_to_kafka(producer, topic, stream_data):\n",
    "    producer.produce(topic, value=stream_data)\n",
    "    producer.flush()\n",
    "\n"
   ]
  },
  {
   "cell_type": "code",
   "execution_count": null,
   "metadata": {
    "scrolled": true
   },
   "outputs": [
    {
     "name": "stdout",
     "output_type": "stream",
     "text": [
      "Thu tu:  0\n",
      "[[3.955000e-01 6.495850e+04 5.500000e+01 3.181810e+04 0.000000e+00\n",
      "  1.871280e+03 5.983403e+02 6.620000e+02 3.413813e+02 1.000000e+00\n",
      "  3.377000e+02 7.936300e+01 5.200000e+01 2.967400e+01 2.000000e+00\n",
      "  2.925873e+04 5.296926e+01 4.770000e+02 2.693719e+01 3.000000e+00\n",
      "  5.880000e+00 9.487800e+02 1.900000e+01 1.302200e+02 4.000000e+00]]\n"
     ]
    }
   ],
   "source": [
    "producer()"
   ]
  },
  {
   "cell_type": "code",
   "execution_count": null,
   "metadata": {},
   "outputs": [],
   "source": []
  },
  {
   "cell_type": "code",
   "execution_count": null,
   "metadata": {},
   "outputs": [],
   "source": []
  },
  {
   "cell_type": "code",
   "execution_count": 2,
   "metadata": {},
   "outputs": [
    {
     "name": "stdout",
     "output_type": "stream",
     "text": [
      "Collecting confluent_kafka\n",
      "  Downloading confluent_kafka-2.1.1-cp37-cp37m-manylinux_2_17_x86_64.manylinux2014_x86_64.whl (3.9 MB)\n",
      "\u001b[K     |████████████████████████████████| 3.9 MB 2.1 MB/s eta 0:00:01\n",
      "\u001b[?25hInstalling collected packages: confluent-kafka\n",
      "Successfully installed confluent-kafka-2.1.1\n"
     ]
    }
   ],
   "source": [
    "!pip install confluent_kafka"
   ]
  }
 ],
 "metadata": {
  "kernelspec": {
   "display_name": "Python 3",
   "language": "python",
   "name": "python3"
  },
  "language_info": {
   "codemirror_mode": {
    "name": "ipython",
    "version": 3
   },
   "file_extension": ".py",
   "mimetype": "text/x-python",
   "name": "python",
   "nbconvert_exporter": "python",
   "pygments_lexer": "ipython3",
   "version": "3.7.6"
  }
 },
 "nbformat": 4,
 "nbformat_minor": 4
}
