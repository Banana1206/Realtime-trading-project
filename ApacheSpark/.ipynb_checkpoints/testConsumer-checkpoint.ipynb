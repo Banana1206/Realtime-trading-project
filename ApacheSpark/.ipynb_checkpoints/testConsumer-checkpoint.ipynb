{
 "cells": [
  {
   "cell_type": "code",
   "execution_count": 1,
   "metadata": {},
   "outputs": [],
   "source": [
    "import numpy as np\n",
    "from pyspark.sql import SparkSession\n",
    "\n",
    "# Spark session & context\n",
    "spark = (SparkSession\n",
    "         .builder\n",
    "         .master('local')\n",
    "         .appName('kafka-streaming')\n",
    "         .config(\"spark.jars.packages\", \"org.apache.spark:spark-sql-kafka-0-10_2.11:2.4.5\")\n",
    "         .getOrCreate())\n",
    "sc = spark.sparkContext\n",
    "\n",
    "# Khởi tạo Kafka consumer\n",
    "kafka_bootstrap_servers = 'kafka1:19091,kafka2:19092'  # Địa chỉ Kafka của các container Kafka\n",
    "kafka_topic = 'thao_loz'  # Tên topic Kafka\n",
    "\n",
    "# Subscribe to 1 topic\n",
    "df = spark \\\n",
    "  .readStream \\\n",
    "  .format(\"kafka\") \\\n",
    "  .option(\"kafka.bootstrap.servers\", kafka_bootstrap_servers) \\\n",
    "  .option(\"subscribe\", kafka_topic) \\\n",
    "  .load()"
   ]
  },
  {
   "cell_type": "code",
   "execution_count": 7,
   "metadata": {},
   "outputs": [],
   "source": [
    "\n",
    "from pyspark.sql.functions import from_json, udf\n",
    "from pyspark.sql.types import StructType, StructField, FloatType, ArrayType, IntegerType\n",
    "from pyspark.sql.functions import col, udf\n",
    "import numpy as np"
   ]
  },
  {
   "cell_type": "code",
   "execution_count": 12,
   "metadata": {
    "scrolled": false
   },
   "outputs": [],
   "source": [
    "schema = ArrayType(\n",
    "    ArrayType(\n",
    "        StructType([\n",
    "            StructField(\"col1\", FloatType(), nullable=False),\n",
    "            StructField(\"col2\", FloatType(), nullable=False),\n",
    "            StructField(\"col3\", FloatType(), nullable=False),\n",
    "            StructField(\"col4\", FloatType(), nullable=False),\n",
    "            StructField(\"col5\", IntegerType(), nullable=False)\n",
    "        ])\n",
    "    )\n",
    ")\n",
    "\n",
    "# Chuyển đổi cột value thành decoded_value (UTF-8 decoding)\n",
    "decoded_df = df.withColumn(\"decoded_value\", df[\"value\"].cast(\"string\").alias(\"decoded_value\"))\n",
    "# Hàm chuyển đổi dữ liệu\n",
    "def transform_data(rowData):\n",
    "    value = np.array(eval(rowData))\n",
    "    print(value)\n",
    "    return value.tolist()\n",
    "\n",
    "# Đăng ký UDF với Spark\n",
    "transform_data_udf = udf(transform_data, ArrayType(FloatType()))\n",
    "\n",
    "# Áp dụng UDF để chuyển đổi cột decoded_value thành giá trị\n",
    "decoded_df = decoded_df.withColumn(\"value\", transform_data_udf(decoded_df[\"decoded_value\"]))\n",
    "\n",
    "# Chọn cột value\n",
    "decoded_df = decoded_df.select(\"value\")\n",
    "\n",
    "# In dữ liệu ra màn hình console\n",
    "query = decoded_df.writeStream \\\n",
    "    .outputMode(\"append\") \\\n",
    "    .format(\"console\") \\\n",
    "    .start()"
   ]
  },
  {
   "cell_type": "code",
   "execution_count": null,
   "metadata": {},
   "outputs": [],
   "source": []
  },
  {
   "cell_type": "code",
   "execution_count": null,
   "metadata": {},
   "outputs": [],
   "source": []
  },
  {
   "cell_type": "code",
   "execution_count": null,
   "metadata": {},
   "outputs": [],
   "source": []
  },
  {
   "cell_type": "code",
   "execution_count": 14,
   "metadata": {},
   "outputs": [],
   "source": []
  },
  {
   "cell_type": "code",
   "execution_count": null,
   "metadata": {},
   "outputs": [],
   "source": [
    "\n",
    "\n"
   ]
  },
  {
   "cell_type": "code",
   "execution_count": null,
   "metadata": {},
   "outputs": [],
   "source": [
    "# Start the streaming query\n",
    "query = df.writeStream \\\n",
    "    .outputMode(\"append\") \\\n",
    "    .format(\"console\") \\\n",
    "    .start()\n",
    "query.awaitTermination()"
   ]
  },
  {
   "cell_type": "code",
   "execution_count": null,
   "metadata": {},
   "outputs": [],
   "source": [
    "# Parse dữ liệu JSON trong cột decoded_value\n",
    "parsed_df = decoded_df.select(from_json(decoded_df.decoded_value, schema).alias(\"data\"))\n",
    "\n",
    "# Chuyển đổi dữ liệu thành mảng numpy và áp dụng reshape(-1)\n",
    "@udf(returnType=ArrayType(FloatType()))\n",
    "def to_numpy(data):\n",
    "    return np.array(data).reshape(-1)\n",
    "\n",
    "parsed_df = parsed_df.withColumn(\"numpy_data\", to_numpy(parsed_df.data))\n",
    "parsed_df = parsed_df.withColumn(\"numpy_data\", parsed_df.numpy_data[0])\n",
    "\n",
    "# In dữ liệu numpy ra màn hình console\n",
    "query = parsed_df.writeStream \\\n",
    "    .outputMode(\"append\") \\\n",
    "    .format(\"console\") \\\n",
    "    .start()\n",
    "\n",
    "# Chờ cho quá trình stream kết thúc\n",
    "query.awaitTermination()"
   ]
  },
  {
   "cell_type": "code",
   "execution_count": null,
   "metadata": {},
   "outputs": [],
   "source": []
  },
  {
   "cell_type": "code",
   "execution_count": null,
   "metadata": {},
   "outputs": [],
   "source": []
  },
  {
   "cell_type": "code",
   "execution_count": null,
   "metadata": {},
   "outputs": [],
   "source": []
  },
  {
   "cell_type": "code",
   "execution_count": 6,
   "metadata": {},
   "outputs": [],
   "source": []
  },
  {
   "cell_type": "code",
   "execution_count": 7,
   "metadata": {},
   "outputs": [],
   "source": []
  },
  {
   "cell_type": "code",
   "execution_count": null,
   "metadata": {},
   "outputs": [],
   "source": []
  },
  {
   "cell_type": "code",
   "execution_count": null,
   "metadata": {},
   "outputs": [],
   "source": []
  },
  {
   "cell_type": "code",
   "execution_count": null,
   "metadata": {},
   "outputs": [],
   "source": []
  },
  {
   "cell_type": "code",
   "execution_count": null,
   "metadata": {},
   "outputs": [],
   "source": []
  },
  {
   "cell_type": "code",
   "execution_count": null,
   "metadata": {},
   "outputs": [],
   "source": []
  },
  {
   "cell_type": "code",
   "execution_count": null,
   "metadata": {},
   "outputs": [],
   "source": [
    "\n"
   ]
  },
  {
   "cell_type": "code",
   "execution_count": null,
   "metadata": {},
   "outputs": [],
   "source": []
  },
  {
   "cell_type": "code",
   "execution_count": null,
   "metadata": {},
   "outputs": [],
   "source": []
  }
 ],
 "metadata": {
  "kernelspec": {
   "display_name": "Python 3",
   "language": "python",
   "name": "python3"
  },
  "language_info": {
   "codemirror_mode": {
    "name": "ipython",
    "version": 3
   },
   "file_extension": ".py",
   "mimetype": "text/x-python",
   "name": "python",
   "nbconvert_exporter": "python",
   "pygments_lexer": "ipython3",
   "version": "3.7.6"
  }
 },
 "nbformat": 4,
 "nbformat_minor": 4
}
