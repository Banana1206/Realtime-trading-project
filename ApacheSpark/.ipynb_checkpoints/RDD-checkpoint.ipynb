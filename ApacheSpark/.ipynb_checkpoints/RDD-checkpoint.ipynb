{
 "cells": [
  {
   "cell_type": "code",
   "execution_count": 4,
   "metadata": {},
   "outputs": [],
   "source": [
    "from pyspark.sql import SparkSession"
   ]
  },
  {
   "cell_type": "code",
   "execution_count": 7,
   "metadata": {},
   "outputs": [],
   "source": [
    "spark = SparkSession.builder.getOrCreate()"
   ]
  },
  {
   "cell_type": "code",
   "execution_count": null,
   "metadata": {},
   "outputs": [],
   "source": [
    "# # Spark session & context\n",
    "# spark = (SparkSession\n",
    "#          .builder\n",
    "#          .master('local')\n",
    "#          .appName('kafka-streaming')\n",
    "#          # Add kafka package\n",
    "#          .config(\"spark.jars.packages\", \"org.apache.spark:spark-sql-kafka-0-10_2.11:2.4.5\")\n",
    "#          .getOrCreate())\n",
    "# sc = spark.sparkContext\n",
    "# # Khởi tạo Kafka consumer\n",
    "\n",
    "# kafka_bootstrap_servers = 'kafka1:19091,kafka2:19092,kafka3:19093'  # Địa chỉ Kafka của các container Kafka\n",
    "# kafka_topic = 'trading'  # Tên topic Kafka\n",
    "# # Subscribe to 1 topic\n",
    "# df = spark \\\n",
    "#   .readStream \\\n",
    "#   .format(\"kafka\") \\\n",
    "#   .option(\"kafka.bootstrap.servers\", kafka_bootstrap_servers) \\\n",
    "#   .option(\"subscribe\", kafka_topic) \\\n",
    "#   .load()\n",
    "# df.selectExpr(\"CAST(value AS STRING)\")\n",
    "\n",
    "# # Hiển thị dữ liệu ra màn hình\n",
    "# query = (df.writeStream\n",
    "#          .outputMode(\"append\")\n",
    "#          .format(\"console\")\n",
    "#          .trigger(processingTime='5 seconds')\n",
    "#          .start())\n",
    "\n",
    "# query.awaitTermination()"
   ]
  },
  {
   "cell_type": "code",
   "execution_count": null,
   "metadata": {},
   "outputs": [],
   "source": [
    "from pyspark.sql import SparkSession\n",
    "from pyspark.streaming import StreamingContext\n",
    "\n",
    "# Khởi tạo SparkSession\n",
    "spark = (SparkSession\n",
    "         .builder\n",
    "         .master('local')\n",
    "         .appName('kafka-streaming')\n",
    "         .config(\"spark.jars.packages\", \"org.apache.spark:spark-sql-kafka-0-10_2.11:2.4.5\")\n",
    "         .getOrCreate())\n",
    "\n",
    "# Khởi tạo Kafka consumer\n",
    "kafka_bootstrap_servers = 'kafka1:19091,kafka2:19092,kafka3:19093'  # Địa chỉ Kafka của các container Kafka\n",
    "kafka_topic = 'trading'  # Tên topic Kafka\n",
    "\n",
    "# Subscribe to 1 topic\n",
    "df = spark \\\n",
    "    .readStream \\\n",
    "    .format(\"kafka\") \\\n",
    "    .option(\"kafka.bootstrap.servers\", kafka_bootstrap_servers) \\\n",
    "    .option(\"subscribe\", kafka_topic) \\\n",
    "    .load()\n",
    "\n",
    "df = df.selectExpr(\"CAST(value AS STRING)\")\n",
    "\n",
    "# Biến lưu trữ dòng stream\n",
    "stream_buffer = []\n",
    "\n",
    "# Hàm thực hiện dự đoán\n",
    "def perform_prediction(data):\n",
    "    print(\"=================================\")\n",
    "    print(\"data\")\n",
    "    print(data)\n",
    "    # Thực hiện dự đoán trên dữ liệu\n",
    "    # ...\n",
    "\n",
    "# Xử lý mỗi RDD trong luồng dữ liệu\n",
    "def process_rdd(rdd):\n",
    "    global stream_buffer\n",
    "    stream_buffer += rdd.collect()\n",
    "    \n",
    "    if len(stream_buffer) >= 6:\n",
    "        # Đủ 6 dòng, đưa vào mô hình để dự đoán\n",
    "        perform_prediction(stream_buffer)\n",
    "        # Xóa dữ liệu trong stream_buffer\n",
    "        stream_buffer = []\n",
    "\n",
    "# Áp dụng hàm process_rdd cho mỗi RDD trong luồng dữ liệu\n",
    "df.writeStream.foreachBatch(process_rdd).start()\n",
    "\n",
    "# Hiển thị dữ liệu ra màn hình\n",
    "query = (df.writeStream\n",
    "         .outputMode(\"append\")\n",
    "         .format(\"console\")\n",
    "#          .trigger(processingTime='5 seconds')\n",
    "         .start())\n",
    "\n",
    "query.awaitTermination()"
   ]
  },
  {
   "cell_type": "code",
   "execution_count": null,
   "metadata": {},
   "outputs": [],
   "source": []
  }
 ],
 "metadata": {
  "kernelspec": {
   "display_name": "Python 3",
   "language": "python",
   "name": "python3"
  },
  "language_info": {
   "codemirror_mode": {
    "name": "ipython",
    "version": 3
   },
   "file_extension": ".py",
   "mimetype": "text/x-python",
   "name": "python",
   "nbconvert_exporter": "python",
   "pygments_lexer": "ipython3",
   "version": "3.7.6"
  }
 },
 "nbformat": 4,
 "nbformat_minor": 4
}
