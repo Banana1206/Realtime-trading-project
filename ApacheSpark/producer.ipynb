{
 "cells": [
  {
   "cell_type": "code",
   "execution_count": null,
   "metadata": {},
   "outputs": [],
   "source": [
    "from kafka import KafkaProducer\n",
    "from pyspark.sql import SparkSession\n",
    "import time\n",
    "\n",
    "def producer():\n",
    "    # Spark session & context\n",
    "    spark = (SparkSession\n",
    "             .builder\n",
    "             .master('local')\n",
    "             .appName('kafka-streaming')\n",
    "             # Add kafka package\n",
    "             .config(\"spark.jars.packages\", \"org.apache.spark:spark-sql-kafka-0-10_2.11:2.4.5\")\n",
    "             .getOrCreate())\n",
    "    sc = spark.sparkContext\n",
    "    \n",
    "    # Khởi tạo Kafka producer\n",
    "    bootstrap_servers = 'kafka:9092'  # Thay đổi tùy theo cấu hình Kafka của bạn\n",
    "    topic = 'trading'  # Tên topic Kafka để gửi dữ liệu\n",
    "    producer = KafkaProducer(bootstrap_servers=bootstrap_servers)\n",
    "    \n",
    "    # Read the message from the kafka stream\n",
    "    df = spark \\\n",
    "        .readStream \\\n",
    "        .format(\"kafka\") \\\n",
    "        .option(\"kafka.bootstrap.servers\", \"kafka:9092\") \\\n",
    "        .option(\"subscribe\", topic) \\\n",
    "        .load()\n",
    "    \n",
    "    df.selectExpr(\"CAST(key AS STRING)\", \"CAST(value AS STRING)\")\n",
    "    \n",
    "    #Create a small temporary view for SparkSQL\n",
    "    df.createOrReplaceTempView(\"message\")\n",
    "    \n",
    "    # Write out the message to the console of the environment\n",
    "    res = spark.sql(\"SELECT * from message\")\n",
    "    res.writeStream.format(\"console\") \\\n",
    "                .outputMode(\"append\") \\\n",
    "                .start() \n",
    "    \n",
    "# Hàm gửi dữ liệu đến Kafka\n",
    "def send_data_to_kafka(data):\n",
    "    producer.send(topic, value=data.encode('utf-8'))\n",
    "    "
   ]
  },
  {
   "cell_type": "code",
   "execution_count": null,
   "metadata": {},
   "outputs": [],
   "source": [
    "# Write the message back into Kafka in another topic that you are going to listen to with a local consumer\n",
    "ds = df \\\n",
    "    .writeStream \\\n",
    "    .format(\"kafka\") \\\n",
    "    .option(\"kafka.bootstrap.servers\", \"kafka:9092\") \\\n",
    "    .option(\"topic\", topic) \\\n",
    "    .option(\"checkpointLocation\", \"/tmp\") \\\n",
    "    .start()\n",
    "\n",
    "# Tạo và gửi dữ liệu mô phỏng đến Kafka\n",
    "i=0\n",
    "while True:\n",
    "    i=i+1\n",
    "    data = f\"Sample data{i}\"  # Thay đổi dữ liệu mô phỏng tại đây\n",
    "    print(data)\n",
    "    send_data_to_kafka(data)\n",
    "    # Thời gian chờ giữa các lần gửi dữ liệu\n",
    "    # Chú ý rằng bạn có thể điều chỉnh thời gian chờ này để phù hợp với tốc độ xử lý của Spark Streaming\n",
    "    time.sleep(1)\n"
   ]
  },
  {
   "cell_type": "code",
   "execution_count": null,
   "metadata": {},
   "outputs": [],
   "source": []
  },
  {
   "cell_type": "code",
   "execution_count": 5,
   "metadata": {},
   "outputs": [
    {
     "name": "stdout",
     "output_type": "stream",
     "text": [
      "3.14143116\n"
     ]
    }
   ],
   "source": [
    "# import findspark\n",
    "# findspark.init()\n",
    "\n",
    "import pyspark\n",
    "import random\n",
    "\n",
    "sc = pyspark.SparkContext(appName=\"Pi\")\n",
    "num_samples = 100000000\n",
    "\n",
    "def inside(p):     \n",
    "  x, y = random.random(), random.random()\n",
    "  return x*x + y*y < 1\n",
    "\n",
    "count = sc.parallelize(range(0, num_samples)).filter(inside).count()\n",
    "\n",
    "pi = 4 * count / num_samples\n",
    "print(pi)\n",
    "\n",
    "sc.stop()"
   ]
  },
  {
   "cell_type": "code",
   "execution_count": null,
   "metadata": {},
   "outputs": [],
   "source": []
  }
 ],
 "metadata": {
  "kernelspec": {
   "display_name": "Python 3",
   "language": "python",
   "name": "python3"
  },
  "language_info": {
   "codemirror_mode": {
    "name": "ipython",
    "version": 3
   },
   "file_extension": ".py",
   "mimetype": "text/x-python",
   "name": "python",
   "nbconvert_exporter": "python",
   "pygments_lexer": "ipython3",
   "version": "3.7.6"
  }
 },
 "nbformat": 4,
 "nbformat_minor": 4
}
