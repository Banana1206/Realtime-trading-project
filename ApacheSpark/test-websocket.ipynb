{
 "cells": [
  {
   "cell_type": "code",
   "execution_count": 1,
   "metadata": {},
   "outputs": [],
   "source": [
    "# !pip install websockets"
   ]
  },
  {
   "cell_type": "code",
   "execution_count": 3,
   "metadata": {},
   "outputs": [
    {
     "name": "stdout",
     "output_type": "stream",
     "text": [
      "Collecting nest_asyncio\n",
      "  Downloading nest_asyncio-1.5.6-py3-none-any.whl (5.2 kB)\n",
      "Installing collected packages: nest-asyncio\n",
      "Successfully installed nest-asyncio-1.5.6\n"
     ]
    }
   ],
   "source": [
    "!pip install nest_asyncio"
   ]
  },
  {
   "cell_type": "markdown",
   "metadata": {},
   "source": [
    "Trong Jupyter Notebook, event loop đã được khởi chạy bởi kernel của Jupyter để hỗ trợ các hoạt động bất đồng bộ.\n",
    "\n",
    "Để khắc phục lỗi này, bạn có thể sử dụng nest_asyncio để gắn kết một event loop bổ sung vào event loop đã có sẵn. Điều này cho phép bạn chạy các hoạt động bất đồng bộ trong một event loop đã có sẵn trong Jupyter Notebook."
   ]
  },
  {
   "cell_type": "code",
   "execution_count": 5,
   "metadata": {},
   "outputs": [
    {
     "name": "stdout",
     "output_type": "stream",
     "text": [
      "=============\n",
      "{\"e\":\"kline\",\"E\":1689610635045,\"s\":\"BNBUSDT\",\"k\":{\"t\":1689610500000,\"T\":1689610679999,\"s\":\"BNBUSDT\",\"i\":\"3m\",\"f\":663593879,\"L\":663594332,\"o\":\"244.30000000\",\"c\":\"244.00000000\",\"h\":\"244.30000000\",\"l\":\"244.00000000\",\"v\":\"750.82200000\",\"n\":454,\"x\":false,\"q\":\"183376.38820000\",\"V\":\"258.85800000\",\"Q\":\"63224.07460000\",\"B\":\"0\"}}\n",
      "=============\n",
      "{\"e\":\"kline\",\"E\":1689610637543,\"s\":\"BNBUSDT\",\"k\":{\"t\":1689610500000,\"T\":1689610679999,\"s\":\"BNBUSDT\",\"i\":\"3m\",\"f\":663593879,\"L\":663594335,\"o\":\"244.30000000\",\"c\":\"244.00000000\",\"h\":\"244.30000000\",\"l\":\"244.00000000\",\"v\":\"751.91100000\",\"n\":457,\"x\":false,\"q\":\"183642.17950000\",\"V\":\"259.61100000\",\"Q\":\"63407.88190000\",\"B\":\"0\"}}\n",
      "=============\n",
      "{\"e\":\"kline\",\"E\":1689610640043,\"s\":\"BNBUSDT\",\"k\":{\"t\":1689610500000,\"T\":1689610679999,\"s\":\"BNBUSDT\",\"i\":\"3m\",\"f\":663593879,\"L\":663594337,\"o\":\"244.30000000\",\"c\":\"244.00000000\",\"h\":\"244.30000000\",\"l\":\"244.00000000\",\"v\":\"752.47500000\",\"n\":459,\"x\":false,\"q\":\"183779.79550000\",\"V\":\"259.61100000\",\"Q\":\"63407.88190000\",\"B\":\"0\"}}\n",
      "=============\n",
      "{\"e\":\"kline\",\"E\":1689610642169,\"s\":\"BNBUSDT\",\"k\":{\"t\":1689610500000,\"T\":1689610679999,\"s\":\"BNBUSDT\",\"i\":\"3m\",\"f\":663593879,\"L\":663594346,\"o\":\"244.30000000\",\"c\":\"244.10000000\",\"h\":\"244.30000000\",\"l\":\"244.00000000\",\"v\":\"754.61100000\",\"n\":468,\"x\":false,\"q\":\"184301.12150000\",\"V\":\"261.03100000\",\"Q\":\"63754.50390000\",\"B\":\"0\"}}\n",
      "=============\n",
      "{\"e\":\"kline\",\"E\":1689610644177,\"s\":\"BNBUSDT\",\"k\":{\"t\":1689610500000,\"T\":1689610679999,\"s\":\"BNBUSDT\",\"i\":\"3m\",\"f\":663593879,\"L\":663594354,\"o\":\"244.30000000\",\"c\":\"244.00000000\",\"h\":\"244.30000000\",\"l\":\"244.00000000\",\"v\":\"757.69100000\",\"n\":476,\"x\":false,\"q\":\"185052.67080000\",\"V\":\"261.32400000\",\"Q\":\"63826.02520000\",\"B\":\"0\"}}\n",
      "=============\n",
      "{\"e\":\"kline\",\"E\":1689610646362,\"s\":\"BNBUSDT\",\"k\":{\"t\":1689610500000,\"T\":1689610679999,\"s\":\"BNBUSDT\",\"i\":\"3m\",\"f\":663593879,\"L\":663594362,\"o\":\"244.30000000\",\"c\":\"244.00000000\",\"h\":\"244.30000000\",\"l\":\"244.00000000\",\"v\":\"759.79500000\",\"n\":484,\"x\":false,\"q\":\"185566.04680000\",\"V\":\"261.32400000\",\"Q\":\"63826.02520000\",\"B\":\"0\"}}\n",
      "=============\n",
      "{\"e\":\"kline\",\"E\":1689610648985,\"s\":\"BNBUSDT\",\"k\":{\"t\":1689610500000,\"T\":1689610679999,\"s\":\"BNBUSDT\",\"i\":\"3m\",\"f\":663593879,\"L\":663594372,\"o\":\"244.30000000\",\"c\":\"244.00000000\",\"h\":\"244.30000000\",\"l\":\"244.00000000\",\"v\":\"764.48000000\",\"n\":494,\"x\":false,\"q\":\"186709.22440000\",\"V\":\"261.70000000\",\"Q\":\"63917.80680000\",\"B\":\"0\"}}\n"
     ]
    },
    {
     "ename": "KeyboardInterrupt",
     "evalue": "",
     "output_type": "error",
     "traceback": [
      "\u001b[0;31m---------------------------------------------------------------------------\u001b[0m",
      "\u001b[0;31mKeyboardInterrupt\u001b[0m                         Traceback (most recent call last)",
      "\u001b[0;32m<ipython-input-5-6bfef75768be>\u001b[0m in \u001b[0;36m<module>\u001b[0;34m\u001b[0m\n\u001b[1;32m     17\u001b[0m             \u001b[0;32mawait\u001b[0m \u001b[0masyncio\u001b[0m\u001b[0;34m.\u001b[0m\u001b[0msleep\u001b[0m\u001b[0;34m(\u001b[0m\u001b[0;36m1\u001b[0m\u001b[0;34m)\u001b[0m\u001b[0;34m\u001b[0m\u001b[0;34m\u001b[0m\u001b[0m\n\u001b[1;32m     18\u001b[0m \u001b[0;34m\u001b[0m\u001b[0m\n\u001b[0;32m---> 19\u001b[0;31m \u001b[0masyncio\u001b[0m\u001b[0;34m.\u001b[0m\u001b[0mget_event_loop\u001b[0m\u001b[0;34m(\u001b[0m\u001b[0;34m)\u001b[0m\u001b[0;34m.\u001b[0m\u001b[0mrun_until_complete\u001b[0m\u001b[0;34m(\u001b[0m\u001b[0mlisten\u001b[0m\u001b[0;34m(\u001b[0m\u001b[0;34m)\u001b[0m\u001b[0;34m)\u001b[0m\u001b[0;34m\u001b[0m\u001b[0;34m\u001b[0m\u001b[0m\n\u001b[0m",
      "\u001b[0;32m/opt/conda/lib/python3.7/site-packages/nest_asyncio.py\u001b[0m in \u001b[0;36mrun_until_complete\u001b[0;34m(self, future)\u001b[0m\n\u001b[1;32m     82\u001b[0m                 \u001b[0mf\u001b[0m\u001b[0;34m.\u001b[0m\u001b[0m_log_destroy_pending\u001b[0m \u001b[0;34m=\u001b[0m \u001b[0;32mFalse\u001b[0m\u001b[0;34m\u001b[0m\u001b[0;34m\u001b[0m\u001b[0m\n\u001b[1;32m     83\u001b[0m             \u001b[0;32mwhile\u001b[0m \u001b[0;32mnot\u001b[0m \u001b[0mf\u001b[0m\u001b[0;34m.\u001b[0m\u001b[0mdone\u001b[0m\u001b[0;34m(\u001b[0m\u001b[0;34m)\u001b[0m\u001b[0;34m:\u001b[0m\u001b[0;34m\u001b[0m\u001b[0;34m\u001b[0m\u001b[0m\n\u001b[0;32m---> 84\u001b[0;31m                 \u001b[0mself\u001b[0m\u001b[0;34m.\u001b[0m\u001b[0m_run_once\u001b[0m\u001b[0;34m(\u001b[0m\u001b[0;34m)\u001b[0m\u001b[0;34m\u001b[0m\u001b[0;34m\u001b[0m\u001b[0m\n\u001b[0m\u001b[1;32m     85\u001b[0m                 \u001b[0;32mif\u001b[0m \u001b[0mself\u001b[0m\u001b[0;34m.\u001b[0m\u001b[0m_stopping\u001b[0m\u001b[0;34m:\u001b[0m\u001b[0;34m\u001b[0m\u001b[0;34m\u001b[0m\u001b[0m\n\u001b[1;32m     86\u001b[0m                     \u001b[0;32mbreak\u001b[0m\u001b[0;34m\u001b[0m\u001b[0;34m\u001b[0m\u001b[0m\n",
      "\u001b[0;32m/opt/conda/lib/python3.7/site-packages/nest_asyncio.py\u001b[0m in \u001b[0;36m_run_once\u001b[0;34m(self)\u001b[0m\n\u001b[1;32m    105\u001b[0m                 scheduled[0]._when - self.time(), 0), 86400) if scheduled\n\u001b[1;32m    106\u001b[0m             else None)\n\u001b[0;32m--> 107\u001b[0;31m         \u001b[0mevent_list\u001b[0m \u001b[0;34m=\u001b[0m \u001b[0mself\u001b[0m\u001b[0;34m.\u001b[0m\u001b[0m_selector\u001b[0m\u001b[0;34m.\u001b[0m\u001b[0mselect\u001b[0m\u001b[0;34m(\u001b[0m\u001b[0mtimeout\u001b[0m\u001b[0;34m)\u001b[0m\u001b[0;34m\u001b[0m\u001b[0;34m\u001b[0m\u001b[0m\n\u001b[0m\u001b[1;32m    108\u001b[0m         \u001b[0mself\u001b[0m\u001b[0;34m.\u001b[0m\u001b[0m_process_events\u001b[0m\u001b[0;34m(\u001b[0m\u001b[0mevent_list\u001b[0m\u001b[0;34m)\u001b[0m\u001b[0;34m\u001b[0m\u001b[0;34m\u001b[0m\u001b[0m\n\u001b[1;32m    109\u001b[0m \u001b[0;34m\u001b[0m\u001b[0m\n",
      "\u001b[0;32m/opt/conda/lib/python3.7/selectors.py\u001b[0m in \u001b[0;36mselect\u001b[0;34m(self, timeout)\u001b[0m\n\u001b[1;32m    466\u001b[0m             \u001b[0mready\u001b[0m \u001b[0;34m=\u001b[0m \u001b[0;34m[\u001b[0m\u001b[0;34m]\u001b[0m\u001b[0;34m\u001b[0m\u001b[0;34m\u001b[0m\u001b[0m\n\u001b[1;32m    467\u001b[0m             \u001b[0;32mtry\u001b[0m\u001b[0;34m:\u001b[0m\u001b[0;34m\u001b[0m\u001b[0;34m\u001b[0m\u001b[0m\n\u001b[0;32m--> 468\u001b[0;31m                 \u001b[0mfd_event_list\u001b[0m \u001b[0;34m=\u001b[0m \u001b[0mself\u001b[0m\u001b[0;34m.\u001b[0m\u001b[0m_selector\u001b[0m\u001b[0;34m.\u001b[0m\u001b[0mpoll\u001b[0m\u001b[0;34m(\u001b[0m\u001b[0mtimeout\u001b[0m\u001b[0;34m,\u001b[0m \u001b[0mmax_ev\u001b[0m\u001b[0;34m)\u001b[0m\u001b[0;34m\u001b[0m\u001b[0;34m\u001b[0m\u001b[0m\n\u001b[0m\u001b[1;32m    469\u001b[0m             \u001b[0;32mexcept\u001b[0m \u001b[0mInterruptedError\u001b[0m\u001b[0;34m:\u001b[0m\u001b[0;34m\u001b[0m\u001b[0;34m\u001b[0m\u001b[0m\n\u001b[1;32m    470\u001b[0m                 \u001b[0;32mreturn\u001b[0m \u001b[0mready\u001b[0m\u001b[0;34m\u001b[0m\u001b[0;34m\u001b[0m\u001b[0m\n",
      "\u001b[0;31mKeyboardInterrupt\u001b[0m: "
     ]
    }
   ],
   "source": [
    "import asyncio\n",
    "import websockets\n",
    "import nest_asyncio\n",
    "nest_asyncio.apply()\n",
    "\n",
    "async def listen():\n",
    "    \"\"\"\n",
    "        read about binance websocket: https://github.com/binance/binance-spot-api-docs/blob/master/web-socket-streams.md\n",
    "    \"\"\"\n",
    "    url = \"wss://stream.binance.com:9443/ws/bnbusdt@kline_3m\"\n",
    "    \n",
    "    async with websockets.connect(url) as ws:\n",
    "        while True:\n",
    "            msg = await ws.recv()\n",
    "            print(\"=============\")\n",
    "            print(msg)\n",
    "            await asyncio.sleep(1)\n",
    "        \n",
    "asyncio.get_event_loop().run_until_complete(listen())\n"
   ]
  },
  {
   "cell_type": "code",
   "execution_count": null,
   "metadata": {},
   "outputs": [],
   "source": []
  }
 ],
 "metadata": {
  "kernelspec": {
   "display_name": "Python 3",
   "language": "python",
   "name": "python3"
  },
  "language_info": {
   "codemirror_mode": {
    "name": "ipython",
    "version": 3
   },
   "file_extension": ".py",
   "mimetype": "text/x-python",
   "name": "python",
   "nbconvert_exporter": "python",
   "pygments_lexer": "ipython3",
   "version": "3.7.6"
  }
 },
 "nbformat": 4,
 "nbformat_minor": 4
}
