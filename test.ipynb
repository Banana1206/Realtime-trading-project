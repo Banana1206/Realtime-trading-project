{
 "cells": [
  {
   "cell_type": "markdown",
   "metadata": {},
   "source": [
    "### tes Producer"
   ]
  },
  {
   "cell_type": "code",
   "execution_count": 1,
   "metadata": {},
   "outputs": [],
   "source": [
    "from confluent_kafka import Producer\n",
    "import pandas as pd\n",
    "import numpy as np\n",
    "# from faker import Faker\n",
    "import time\n",
    "import json\n",
    "import random\n",
    "\n",
    "def getStockDataVec():\n",
    "    df = pd.read_csv(\"./agents/data/full_data.csv\")\n",
    "    df = df[['open_time', 'close', 'volume', 'count', 'taker_buy_volume', 'symbol']]\n",
    "    df.set_index('open_time', inplace=True)\n",
    "    symbol_mapping = {'ADABUSD': 0, 'ETHBUSD': 1, 'BNBBUSD': 2, 'BTCBUSD': 3, 'DOTBUSD': 4}\n",
    "    df['symbol'] = df['symbol'].map(symbol_mapping).fillna(df['symbol'])\n",
    "    return df\n",
    "\n",
    "def getState(sub_data):\n",
    "    sub_data = sub_data.to_dict()\n",
    "    return json.dumps(sub_data).encode('utf-8')\n",
    "\n",
    "def producer():\n",
    "    # Khởi tạo Kafka producer\n",
    "    bootstrap_servers = 'localhost:9091'\n",
    "    topic = 'trading3'\n",
    "    producer = Producer({'bootstrap.servers': bootstrap_servers})\n",
    "\n",
    "    data = getStockDataVec()\n",
    "    index = data.index\n",
    "   \n",
    "\n",
    "    # Gửi dữ liệu giả lập đến Kafka\n",
    "    for i in range(len(data/5)):\n",
    "        stream_data = getState(data.loc[index[i]])\n",
    "        print(\"Thu tu: \", i)\n",
    "        print(stream_data)\n",
    "        # print(stream_data.tobytes())\n",
    "        # print(np.frombuffer(stream_data.tobytes(), dtype=np.float64))\n",
    "        send_data_to_kafka(producer, topic, stream_data)\n",
    "\n",
    "        # Thời gian chờ giữa các lần gửi dữ liệu\n",
    "        time.sleep(5)\n",
    "        \n",
    "\n",
    "def send_data_to_kafka(producer, topic, stream_data):\n",
    "    producer.produce(topic, value=stream_data)\n",
    "    producer.flush()\n",
    "\n"
   ]
  },
  {
   "cell_type": "code",
   "execution_count": 2,
   "metadata": {},
   "outputs": [
    {
     "name": "stdout",
     "output_type": "stream",
     "text": [
      "Thu tu:  0\n",
      "b'{\"close\": {\"1682899200000\": 5.88}, \"volume\": {\"1682899200000\": 948.78}, \"count\": {\"1682899200000\": 19}, \"taker_buy_volume\": {\"1682899200000\": 130.22}, \"symbol\": {\"1682899200000\": 4}}'\n"
     ]
    },
    {
     "ename": "KeyboardInterrupt",
     "evalue": "",
     "output_type": "error",
     "traceback": [
      "\u001b[1;31m---------------------------------------------------------------------------\u001b[0m",
      "\u001b[1;31mKeyboardInterrupt\u001b[0m                         Traceback (most recent call last)",
      "Cell \u001b[1;32mIn[2], line 1\u001b[0m\n\u001b[1;32m----> 1\u001b[0m producer()\n",
      "Cell \u001b[1;32mIn[1], line 41\u001b[0m, in \u001b[0;36mproducer\u001b[1;34m()\u001b[0m\n\u001b[0;32m     38\u001b[0m send_data_to_kafka(producer, topic, stream_data)\n\u001b[0;32m     40\u001b[0m \u001b[39m# Thời gian chờ giữa các lần gửi dữ liệu\u001b[39;00m\n\u001b[1;32m---> 41\u001b[0m time\u001b[39m.\u001b[39;49msleep(\u001b[39m5\u001b[39;49m)\n",
      "\u001b[1;31mKeyboardInterrupt\u001b[0m: "
     ]
    }
   ],
   "source": [
    "producer()"
   ]
  },
  {
   "cell_type": "code",
   "execution_count": 43,
   "metadata": {},
   "outputs": [],
   "source": [
    "data = getStockDataVec()\n",
    "index = data.index\n",
    "stream_data = getState(data.loc[index[1]])"
   ]
  },
  {
   "cell_type": "code",
   "execution_count": 72,
   "metadata": {},
   "outputs": [
    {
     "data": {
      "text/plain": [
       "b'{\"close\": {\"1682899200000\": 5.88}, \"volume\": {\"1682899200000\": 948.78}, \"count\": {\"1682899200000\": 19}, \"taker_buy_volume\": {\"1682899200000\": 130.22}, \"symbol\": {\"1682899200000\": 4}}'"
      ]
     },
     "execution_count": 72,
     "metadata": {},
     "output_type": "execute_result"
    }
   ],
   "source": [
    "import json\n",
    "sub_data = data.loc[index[1]].to_dict()\n",
    "json.dumps(sub_data).encode('utf-8')"
   ]
  },
  {
   "cell_type": "code",
   "execution_count": 25,
   "metadata": {},
   "outputs": [
    {
     "ename": "TypeError",
     "evalue": "Cannot pass DataFrame to 'pandas.array'",
     "output_type": "error",
     "traceback": [
      "\u001b[1;31m---------------------------------------------------------------------------\u001b[0m",
      "\u001b[1;31mTypeError\u001b[0m                                 Traceback (most recent call last)",
      "Cell \u001b[1;32mIn[25], line 1\u001b[0m\n\u001b[1;32m----> 1\u001b[0m pd\u001b[39m.\u001b[39;49marray(data\u001b[39m.\u001b[39;49mloc[index[\u001b[39m1\u001b[39;49m]])\n",
      "File \u001b[1;32mc:\\Users\\ADMIN\\AppData\\Local\\Programs\\Python\\Python310\\lib\\site-packages\\pandas\\core\\construction.py:307\u001b[0m, in \u001b[0;36marray\u001b[1;34m(data, dtype, copy)\u001b[0m\n\u001b[0;32m    305\u001b[0m     \u001b[39mraise\u001b[39;00m \u001b[39mValueError\u001b[39;00m(msg)\n\u001b[0;32m    306\u001b[0m \u001b[39melif\u001b[39;00m \u001b[39misinstance\u001b[39m(data, ABCDataFrame):\n\u001b[1;32m--> 307\u001b[0m     \u001b[39mraise\u001b[39;00m \u001b[39mTypeError\u001b[39;00m(\u001b[39m\"\u001b[39m\u001b[39mCannot pass DataFrame to \u001b[39m\u001b[39m'\u001b[39m\u001b[39mpandas.array\u001b[39m\u001b[39m'\u001b[39m\u001b[39m\"\u001b[39m)\n\u001b[0;32m    309\u001b[0m \u001b[39mif\u001b[39;00m dtype \u001b[39mis\u001b[39;00m \u001b[39mNone\u001b[39;00m \u001b[39mand\u001b[39;00m \u001b[39misinstance\u001b[39m(data, (ABCSeries, ABCIndex, ExtensionArray)):\n\u001b[0;32m    310\u001b[0m     \u001b[39m# Note: we exclude np.ndarray here, will do type inference on it\u001b[39;00m\n\u001b[0;32m    311\u001b[0m     dtype \u001b[39m=\u001b[39m data\u001b[39m.\u001b[39mdtype\n",
      "\u001b[1;31mTypeError\u001b[0m: Cannot pass DataFrame to 'pandas.array'"
     ]
    }
   ],
   "source": [
    "pd.array(data.loc[index[1]])"
   ]
  },
  {
   "cell_type": "markdown",
   "metadata": {},
   "source": [
    "### test Spark"
   ]
  },
  {
   "cell_type": "code",
   "execution_count": 8,
   "metadata": {},
   "outputs": [],
   "source": [
    "\n",
    "import findspark\n",
    "findspark.init()\n",
    "\n",
    "import pyspark\n",
    "import random\n",
    "from pyspark.sql import SparkSession\n",
    "from pyspark.sql.types import *"
   ]
  },
  {
   "cell_type": "code",
   "execution_count": 2,
   "metadata": {},
   "outputs": [],
   "source": [
    "sc = pyspark.SparkContext()\n"
   ]
  },
  {
   "cell_type": "code",
   "execution_count": 13,
   "metadata": {},
   "outputs": [
    {
     "name": "stdout",
     "output_type": "stream",
     "text": [
      "False\n",
      "['a', 'b', 'c']\n",
      "====================0=============\n",
      "['a', 'b', 'c', 0]\n",
      "====================1=============\n",
      "['a', 'b', 'c', 0, 1]\n",
      "====================2=============\n",
      "['b', 'c', 0, 1, 2]\n",
      "====================3=============\n",
      "['c', 0, 1, 2, 3]\n",
      "====================4=============\n",
      "[0, 1, 2, 3, 4]\n",
      "====================5=============\n",
      "[1, 2, 3, 4, 5]\n",
      "====================6=============\n",
      "[2, 3, 4, 5, 6]\n",
      "====================7=============\n",
      "[3, 4, 5, 6, 7]\n",
      "====================8=============\n",
      "[4, 5, 6, 7, 8]\n",
      "====================9=============\n",
      "[5, 6, 7, 8, 9]\n",
      "====================10=============\n",
      "[6, 7, 8, 9, 10]\n",
      "====================11=============\n",
      "[7, 8, 9, 10, 11]\n",
      "====================12=============\n",
      "[8, 9, 10, 11, 12]\n",
      "====================13=============\n",
      "[9, 10, 11, 12, 13]\n",
      "====================14=============\n",
      "[10, 11, 12, 13, 14]\n",
      "====================15=============\n",
      "[11, 12, 13, 14, 15]\n",
      "====================16=============\n",
      "[12, 13, 14, 15, 16]\n",
      "====================17=============\n",
      "[13, 14, 15, 16, 17]\n",
      "====================18=============\n",
      "[14, 15, 16, 17, 18]\n",
      "====================19=============\n",
      "[15, 16, 17, 18, 19]\n",
      "====================20=============\n",
      "[16, 17, 18, 19, 20]\n",
      "====================21=============\n",
      "[17, 18, 19, 20, 21]\n",
      "====================22=============\n",
      "[18, 19, 20, 21, 22]\n",
      "====================23=============\n",
      "[19, 20, 21, 22, 23]\n",
      "====================24=============\n",
      "[20, 21, 22, 23, 24]\n",
      "====================25=============\n",
      "[21, 22, 23, 24, 25]\n",
      "====================26=============\n",
      "[22, 23, 24, 25, 26]\n",
      "====================27=============\n",
      "[23, 24, 25, 26, 27]\n",
      "====================28=============\n",
      "[24, 25, 26, 27, 28]\n",
      "====================29=============\n",
      "[25, 26, 27, 28, 29]\n",
      "====================30=============\n",
      "[26, 27, 28, 29, 30]\n",
      "====================31=============\n",
      "[27, 28, 29, 30, 31]\n",
      "====================32=============\n",
      "[28, 29, 30, 31, 32]\n",
      "====================33=============\n",
      "[29, 30, 31, 32, 33]\n",
      "====================34=============\n",
      "[30, 31, 32, 33, 34]\n",
      "====================35=============\n",
      "[31, 32, 33, 34, 35]\n",
      "====================36=============\n",
      "[32, 33, 34, 35, 36]\n",
      "====================37=============\n",
      "[33, 34, 35, 36, 37]\n",
      "====================38=============\n",
      "[34, 35, 36, 37, 38]\n",
      "====================39=============\n",
      "[35, 36, 37, 38, 39]\n",
      "====================40=============\n",
      "[36, 37, 38, 39, 40]\n",
      "====================41=============\n",
      "[37, 38, 39, 40, 41]\n",
      "====================42=============\n",
      "[38, 39, 40, 41, 42]\n",
      "====================43=============\n",
      "[39, 40, 41, 42, 43]\n",
      "====================44=============\n",
      "[40, 41, 42, 43, 44]\n",
      "====================45=============\n",
      "[41, 42, 43, 44, 45]\n",
      "====================46=============\n",
      "[42, 43, 44, 45, 46]\n",
      "====================47=============\n",
      "[43, 44, 45, 46, 47]\n",
      "====================48=============\n",
      "[44, 45, 46, 47, 48]\n",
      "====================49=============\n",
      "[45, 46, 47, 48, 49]\n"
     ]
    }
   ],
   "source": [
    "  \n",
    "from queue import Queue\n",
    "  \n",
    "# Initializing a queue\n",
    "q = []\n",
    "q.append('a')\n",
    "q.append('b')\n",
    "q.append('c')\n",
    "  \n",
    "# qsize() give the maxsize \n",
    "# of the Queue \n",
    "\n",
    "print(len(q) ==5) \n",
    "print(q)\n",
    "for i in range(50):\n",
    "    print(f'===================={i}=============')\n",
    "    if len(q)==5:\n",
    "        q.pop(0)\n",
    "        q.append(i)\n",
    "    else:\n",
    "        q.append(i)\n",
    "    print(q)"
   ]
  },
  {
   "cell_type": "code",
   "execution_count": null,
   "metadata": {},
   "outputs": [
    {
     "data": {
      "text/plain": [
       "True"
      ]
     },
     "execution_count": 6,
     "metadata": {},
     "output_type": "execute_result"
    }
   ],
   "source": [
    "q.full()"
   ]
  },
  {
   "cell_type": "code",
   "execution_count": 10,
   "metadata": {},
   "outputs": [],
   "source": [
    "q.put('d')\n"
   ]
  },
  {
   "cell_type": "code",
   "execution_count": 11,
   "metadata": {},
   "outputs": [
    {
     "data": {
      "text/plain": [
       "False"
      ]
     },
     "execution_count": 11,
     "metadata": {},
     "output_type": "execute_result"
    }
   ],
   "source": [
    "q.full()"
   ]
  },
  {
   "cell_type": "code",
   "execution_count": 1,
   "metadata": {},
   "outputs": [
    {
     "ename": "NameError",
     "evalue": "name 'q' is not defined",
     "output_type": "error",
     "traceback": [
      "\u001b[1;31m---------------------------------------------------------------------------\u001b[0m",
      "\u001b[1;31mNameError\u001b[0m                                 Traceback (most recent call last)",
      "Cell \u001b[1;32mIn[1], line 1\u001b[0m\n\u001b[1;32m----> 1\u001b[0m q\u001b[39m.\u001b[39mget()\n",
      "\u001b[1;31mNameError\u001b[0m: name 'q' is not defined"
     ]
    }
   ],
   "source": [
    "q.get()"
   ]
  },
  {
   "cell_type": "code",
   "execution_count": null,
   "metadata": {},
   "outputs": [],
   "source": []
  },
  {
   "cell_type": "code",
   "execution_count": null,
   "metadata": {},
   "outputs": [],
   "source": []
  },
  {
   "cell_type": "code",
   "execution_count": null,
   "metadata": {},
   "outputs": [],
   "source": [
    "\n"
   ]
  },
  {
   "cell_type": "code",
   "execution_count": 47,
   "metadata": {},
   "outputs": [],
   "source": []
  },
  {
   "cell_type": "code",
   "execution_count": null,
   "metadata": {},
   "outputs": [],
   "source": []
  }
 ],
 "metadata": {
  "kernelspec": {
   "display_name": "Python 3",
   "language": "python",
   "name": "python3"
  },
  "language_info": {
   "codemirror_mode": {
    "name": "ipython",
    "version": 3
   },
   "file_extension": ".py",
   "mimetype": "text/x-python",
   "name": "python",
   "nbconvert_exporter": "python",
   "pygments_lexer": "ipython3",
   "version": "3.10.11"
  },
  "orig_nbformat": 4
 },
 "nbformat": 4,
 "nbformat_minor": 2
}
