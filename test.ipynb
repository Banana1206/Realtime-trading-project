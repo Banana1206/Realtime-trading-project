{
 "cells": [
  {
   "cell_type": "markdown",
   "metadata": {},
   "source": [
    "### tes Producer"
   ]
  },
  {
   "cell_type": "code",
   "execution_count": 3,
   "metadata": {},
   "outputs": [],
   "source": [
    "from confluent_kafka import Producer\n",
    "import pandas as pd\n",
    "import numpy as np\n",
    "# from faker import Faker\n",
    "import time\n",
    "import json\n",
    "import random\n",
    "\n",
    "def getStockDataVec():\n",
    "    df = pd.read_csv(\"./agents/data/full_data.csv\")\n",
    "    df = df[['open_time', 'close', 'volume', 'count', 'taker_buy_volume', 'symbol']]\n",
    "    df.set_index('open_time', inplace=True)\n",
    "    symbol_mapping = {'ADABUSD': 0, 'ETHBUSD': 1, 'BNBBUSD': 2, 'BTCBUSD': 3, 'DOTBUSD': 4}\n",
    "    df['symbol'] = df['symbol'].map(symbol_mapping).fillna(df['symbol'])\n",
    "    return df\n",
    "\n",
    "def getState(sub_data):\n",
    "    sub_data = sub_data.to_dict()\n",
    "    return json.dumps(sub_data).encode('utf-8')\n",
    "\n",
    "def producer():\n",
    "    # Khởi tạo Kafka producer\n",
    "    bootstrap_servers = 'localhost:9091'\n",
    "    topic = 'trading3'\n",
    "    producer = Producer({'bootstrap.servers': bootstrap_servers})\n",
    "\n",
    "    data = getStockDataVec()\n",
    "    index = data.index\n",
    "   \n",
    "\n",
    "    # Gửi dữ liệu giả lập đến Kafka\n",
    "    for i in range(len(data/5)):\n",
    "        stream_data = getState(data.loc[index[i]])\n",
    "        print(\"Thu tu: \", i)\n",
    "        print(stream_data)\n",
    "        # print(stream_data.tobytes())\n",
    "        # print(np.frombuffer(stream_data.tobytes(), dtype=np.float64))\n",
    "        send_data_to_kafka(producer, topic, stream_data)\n",
    "\n",
    "        # Thời gian chờ giữa các lần gửi dữ liệu\n",
    "        time.sleep(5)\n",
    "        \n",
    "\n",
    "def send_data_to_kafka(producer, topic, stream_data):\n",
    "    producer.produce(topic, value=stream_data)\n",
    "    producer.flush()\n",
    "\n"
   ]
  },
  {
   "cell_type": "code",
   "execution_count": 2,
   "metadata": {},
   "outputs": [
    {
     "name": "stdout",
     "output_type": "stream",
     "text": [
      "Thu tu:  0\n",
      "b'{\"close\": {\"1682899200000\": 5.88}, \"volume\": {\"1682899200000\": 948.78}, \"count\": {\"1682899200000\": 19}, \"taker_buy_volume\": {\"1682899200000\": 130.22}, \"symbol\": {\"1682899200000\": 4}}'\n"
     ]
    },
    {
     "ename": "KeyboardInterrupt",
     "evalue": "",
     "output_type": "error",
     "traceback": [
      "\u001b[1;31m---------------------------------------------------------------------------\u001b[0m",
      "\u001b[1;31mKeyboardInterrupt\u001b[0m                         Traceback (most recent call last)",
      "Cell \u001b[1;32mIn[2], line 1\u001b[0m\n\u001b[1;32m----> 1\u001b[0m producer()\n",
      "Cell \u001b[1;32mIn[1], line 41\u001b[0m, in \u001b[0;36mproducer\u001b[1;34m()\u001b[0m\n\u001b[0;32m     38\u001b[0m send_data_to_kafka(producer, topic, stream_data)\n\u001b[0;32m     40\u001b[0m \u001b[39m# Thời gian chờ giữa các lần gửi dữ liệu\u001b[39;00m\n\u001b[1;32m---> 41\u001b[0m time\u001b[39m.\u001b[39;49msleep(\u001b[39m5\u001b[39;49m)\n",
      "\u001b[1;31mKeyboardInterrupt\u001b[0m: "
     ]
    }
   ],
   "source": [
    "producer()"
   ]
  },
  {
   "cell_type": "code",
   "execution_count": 43,
   "metadata": {},
   "outputs": [],
   "source": [
    "data = getStockDataVec()\n",
    "index = data.index\n",
    "stream_data = getState(data.loc[index[1]])"
   ]
  },
  {
   "cell_type": "code",
   "execution_count": 72,
   "metadata": {},
   "outputs": [
    {
     "data": {
      "text/plain": [
       "b'{\"close\": {\"1682899200000\": 5.88}, \"volume\": {\"1682899200000\": 948.78}, \"count\": {\"1682899200000\": 19}, \"taker_buy_volume\": {\"1682899200000\": 130.22}, \"symbol\": {\"1682899200000\": 4}}'"
      ]
     },
     "execution_count": 72,
     "metadata": {},
     "output_type": "execute_result"
    }
   ],
   "source": [
    "import json\n",
    "sub_data = data.loc[index[1]].to_dict()\n",
    "json.dumps(sub_data).encode('utf-8')"
   ]
  },
  {
   "cell_type": "code",
   "execution_count": 25,
   "metadata": {},
   "outputs": [
    {
     "ename": "TypeError",
     "evalue": "Cannot pass DataFrame to 'pandas.array'",
     "output_type": "error",
     "traceback": [
      "\u001b[1;31m---------------------------------------------------------------------------\u001b[0m",
      "\u001b[1;31mTypeError\u001b[0m                                 Traceback (most recent call last)",
      "Cell \u001b[1;32mIn[25], line 1\u001b[0m\n\u001b[1;32m----> 1\u001b[0m pd\u001b[39m.\u001b[39;49marray(data\u001b[39m.\u001b[39;49mloc[index[\u001b[39m1\u001b[39;49m]])\n",
      "File \u001b[1;32mc:\\Users\\ADMIN\\AppData\\Local\\Programs\\Python\\Python310\\lib\\site-packages\\pandas\\core\\construction.py:307\u001b[0m, in \u001b[0;36marray\u001b[1;34m(data, dtype, copy)\u001b[0m\n\u001b[0;32m    305\u001b[0m     \u001b[39mraise\u001b[39;00m \u001b[39mValueError\u001b[39;00m(msg)\n\u001b[0;32m    306\u001b[0m \u001b[39melif\u001b[39;00m \u001b[39misinstance\u001b[39m(data, ABCDataFrame):\n\u001b[1;32m--> 307\u001b[0m     \u001b[39mraise\u001b[39;00m \u001b[39mTypeError\u001b[39;00m(\u001b[39m\"\u001b[39m\u001b[39mCannot pass DataFrame to \u001b[39m\u001b[39m'\u001b[39m\u001b[39mpandas.array\u001b[39m\u001b[39m'\u001b[39m\u001b[39m\"\u001b[39m)\n\u001b[0;32m    309\u001b[0m \u001b[39mif\u001b[39;00m dtype \u001b[39mis\u001b[39;00m \u001b[39mNone\u001b[39;00m \u001b[39mand\u001b[39;00m \u001b[39misinstance\u001b[39m(data, (ABCSeries, ABCIndex, ExtensionArray)):\n\u001b[0;32m    310\u001b[0m     \u001b[39m# Note: we exclude np.ndarray here, will do type inference on it\u001b[39;00m\n\u001b[0;32m    311\u001b[0m     dtype \u001b[39m=\u001b[39m data\u001b[39m.\u001b[39mdtype\n",
      "\u001b[1;31mTypeError\u001b[0m: Cannot pass DataFrame to 'pandas.array'"
     ]
    }
   ],
   "source": [
    "pd.array(data.loc[index[1]])"
   ]
  },
  {
   "cell_type": "markdown",
   "metadata": {},
   "source": [
    "### test Spark"
   ]
  },
  {
   "cell_type": "code",
   "execution_count": 8,
   "metadata": {},
   "outputs": [],
   "source": [
    "\n",
    "import findspark\n",
    "findspark.init()\n",
    "\n",
    "import pyspark\n",
    "import random\n",
    "from pyspark.sql import SparkSession\n",
    "from pyspark.sql.types import *"
   ]
  },
  {
   "cell_type": "code",
   "execution_count": 2,
   "metadata": {},
   "outputs": [],
   "source": [
    "sc = pyspark.SparkContext()\n"
   ]
  },
  {
   "cell_type": "code",
   "execution_count": 13,
   "metadata": {},
   "outputs": [
    {
     "name": "stdout",
     "output_type": "stream",
     "text": [
      "False\n",
      "['a', 'b', 'c']\n",
      "====================0=============\n",
      "['a', 'b', 'c', 0]\n",
      "====================1=============\n",
      "['a', 'b', 'c', 0, 1]\n",
      "====================2=============\n",
      "['b', 'c', 0, 1, 2]\n",
      "====================3=============\n",
      "['c', 0, 1, 2, 3]\n",
      "====================4=============\n",
      "[0, 1, 2, 3, 4]\n",
      "====================5=============\n",
      "[1, 2, 3, 4, 5]\n",
      "====================6=============\n",
      "[2, 3, 4, 5, 6]\n",
      "====================7=============\n",
      "[3, 4, 5, 6, 7]\n",
      "====================8=============\n",
      "[4, 5, 6, 7, 8]\n",
      "====================9=============\n",
      "[5, 6, 7, 8, 9]\n",
      "====================10=============\n",
      "[6, 7, 8, 9, 10]\n",
      "====================11=============\n",
      "[7, 8, 9, 10, 11]\n",
      "====================12=============\n",
      "[8, 9, 10, 11, 12]\n",
      "====================13=============\n",
      "[9, 10, 11, 12, 13]\n",
      "====================14=============\n",
      "[10, 11, 12, 13, 14]\n",
      "====================15=============\n",
      "[11, 12, 13, 14, 15]\n",
      "====================16=============\n",
      "[12, 13, 14, 15, 16]\n",
      "====================17=============\n",
      "[13, 14, 15, 16, 17]\n",
      "====================18=============\n",
      "[14, 15, 16, 17, 18]\n",
      "====================19=============\n",
      "[15, 16, 17, 18, 19]\n",
      "====================20=============\n",
      "[16, 17, 18, 19, 20]\n",
      "====================21=============\n",
      "[17, 18, 19, 20, 21]\n",
      "====================22=============\n",
      "[18, 19, 20, 21, 22]\n",
      "====================23=============\n",
      "[19, 20, 21, 22, 23]\n",
      "====================24=============\n",
      "[20, 21, 22, 23, 24]\n",
      "====================25=============\n",
      "[21, 22, 23, 24, 25]\n",
      "====================26=============\n",
      "[22, 23, 24, 25, 26]\n",
      "====================27=============\n",
      "[23, 24, 25, 26, 27]\n",
      "====================28=============\n",
      "[24, 25, 26, 27, 28]\n",
      "====================29=============\n",
      "[25, 26, 27, 28, 29]\n",
      "====================30=============\n",
      "[26, 27, 28, 29, 30]\n",
      "====================31=============\n",
      "[27, 28, 29, 30, 31]\n",
      "====================32=============\n",
      "[28, 29, 30, 31, 32]\n",
      "====================33=============\n",
      "[29, 30, 31, 32, 33]\n",
      "====================34=============\n",
      "[30, 31, 32, 33, 34]\n",
      "====================35=============\n",
      "[31, 32, 33, 34, 35]\n",
      "====================36=============\n",
      "[32, 33, 34, 35, 36]\n",
      "====================37=============\n",
      "[33, 34, 35, 36, 37]\n",
      "====================38=============\n",
      "[34, 35, 36, 37, 38]\n",
      "====================39=============\n",
      "[35, 36, 37, 38, 39]\n",
      "====================40=============\n",
      "[36, 37, 38, 39, 40]\n",
      "====================41=============\n",
      "[37, 38, 39, 40, 41]\n",
      "====================42=============\n",
      "[38, 39, 40, 41, 42]\n",
      "====================43=============\n",
      "[39, 40, 41, 42, 43]\n",
      "====================44=============\n",
      "[40, 41, 42, 43, 44]\n",
      "====================45=============\n",
      "[41, 42, 43, 44, 45]\n",
      "====================46=============\n",
      "[42, 43, 44, 45, 46]\n",
      "====================47=============\n",
      "[43, 44, 45, 46, 47]\n",
      "====================48=============\n",
      "[44, 45, 46, 47, 48]\n",
      "====================49=============\n",
      "[45, 46, 47, 48, 49]\n"
     ]
    }
   ],
   "source": [
    "  \n",
    "from queue import Queue\n",
    "  \n",
    "# Initializing a queue\n",
    "q = []\n",
    "q.append('a')\n",
    "q.append('b')\n",
    "q.append('c')\n",
    "  \n",
    "# qsize() give the maxsize \n",
    "# of the Queue \n",
    "\n",
    "print(len(q) ==5) \n",
    "print(q)\n",
    "for i in range(50):\n",
    "    print(f'===================={i}=============')\n",
    "    if len(q)==5:\n",
    "        q.pop(0)\n",
    "        q.append(i)\n",
    "    else:\n",
    "        q.append(i)\n",
    "    print(q)"
   ]
  },
  {
   "cell_type": "code",
   "execution_count": null,
   "metadata": {},
   "outputs": [
    {
     "data": {
      "text/plain": [
       "True"
      ]
     },
     "execution_count": 6,
     "metadata": {},
     "output_type": "execute_result"
    }
   ],
   "source": [
    "q.full()"
   ]
  },
  {
   "cell_type": "code",
   "execution_count": 10,
   "metadata": {},
   "outputs": [],
   "source": [
    "q.put('d')\n"
   ]
  },
  {
   "cell_type": "code",
   "execution_count": 11,
   "metadata": {},
   "outputs": [
    {
     "data": {
      "text/plain": [
       "False"
      ]
     },
     "execution_count": 11,
     "metadata": {},
     "output_type": "execute_result"
    }
   ],
   "source": [
    "q.full()"
   ]
  },
  {
   "cell_type": "code",
   "execution_count": 1,
   "metadata": {},
   "outputs": [
    {
     "name": "stdout",
     "output_type": "stream",
     "text": [
      "2.0.1+cpu\n"
     ]
    }
   ],
   "source": [
    "import torch\n",
    "\n",
    "print(torch.__version__)"
   ]
  },
  {
   "cell_type": "code",
   "execution_count": null,
   "metadata": {},
   "outputs": [],
   "source": []
  },
  {
   "cell_type": "code",
   "execution_count": null,
   "metadata": {},
   "outputs": [],
   "source": []
  },
  {
   "cell_type": "code",
   "execution_count": null,
   "metadata": {},
   "outputs": [],
   "source": [
    "\n"
   ]
  },
  {
   "cell_type": "code",
   "execution_count": 20,
   "metadata": {},
   "outputs": [],
   "source": [
    "from binance.client import Client\n",
    "import time\n",
    "def create_train_data(data):\n",
    "    listData = []\n",
    "    listData.append(round(float(data[4]), 3))\n",
    "    listData.append(round(float(data[5]), 3))\n",
    "    listData.append(round(float(data[8]), 3))\n",
    "    listData.append(round(float(data[9]), 3))\n",
    "\n",
    "    if data[12] == \"BTCUSDT\":\n",
    "        listData.append(0)\n",
    "    elif data[12] == \"ETHUSDT\":\n",
    "        listData.append(1)\n",
    "    elif data[12] == \"BNBUSDT\":\n",
    "        listData.append(2)\n",
    "    elif data[12] == \"XRPUSDT\":\n",
    "        listData.append(3)\n",
    "    else:\n",
    "        listData.append(4)\n",
    "\n",
    "    return listData\n",
    "\n",
    "trading_pairs = [\"BTCUSDT\", \"ETHUSDT\", \"BNBUSDT\", \"XRPUSDT\", \"LTCUSDT\"]\n",
    "api_key = '38a8NZYdoKTqdQBvztjSDVI0kZUSuvA6tC0LDKohH5hPfE5S6QTxJWIe9FMZFj2q'\n",
    "api_secret = 'bTEGJyrHWKpPHSxfF3nXAu8ruZsbcXqYwlKnHDiI4mRKRNqH6VbB9ILsmTbQRYXc'\n",
    "client = Client(api_key, api_secret)\n",
    "\n",
    "\n",
    "data2 = [] # contain data with windowsize =5\n",
    "while True:\n",
    "\n",
    "    sub_data =[] # contain data for each day\n",
    "    for pair in trading_pairs:\n",
    "        pair_data = client.get_historical_klines(pair, Client.KLINE_INTERVAL_3MINUTE, \"3 min ago UTC\")\n",
    "        pair_data[0].append(pair)\n",
    "        sub_data.append(create_train_data(pair_data[0]))\n",
    "\n",
    "    if(len(data2)==10):\n",
    "        data2.pop(0)\n",
    "        data2.append(sub_data)\n",
    "        # send_data = json.dumps(data).encode('utf-8')\n",
    "        # send_data_to_kafka(producer, topic, send_data)\n",
    "        # print(send_data)\n",
    "        break\n",
    "        \n",
    "    else:\n",
    "        data2.append(sub_data)\n",
    "    time.sleep(1)"
   ]
  },
  {
   "cell_type": "code",
   "execution_count": 21,
   "metadata": {},
   "outputs": [
    {
     "data": {
      "text/plain": [
       "[[[30189.0, 18.298, 289.0, 0.257, 0],\n",
       "  [1913.4, 588.767, 386.0, 222.286, 1],\n",
       "  [242.1, 80.434, 97.0, 22.204, 2],\n",
       "  [0.735, 216120.0, 174.0, 144577.0, 3],\n",
       "  [92.36, 6226.47, 150.0, 168.488, 4]],\n",
       " [[30189.0, 18.456, 296.0, 0.364, 0],\n",
       "  [1913.4, 595.787, 391.0, 222.296, 1],\n",
       "  [242.1, 89.112, 103.0, 22.553, 2],\n",
       "  [0.734, 227414.0, 190.0, 144577.0, 3],\n",
       "  [92.36, 6226.47, 150.0, 168.488, 4]],\n",
       " [[30188.95, 18.585, 307.0, 0.367, 0],\n",
       "  [1913.39, 604.169, 398.0, 225.793, 1],\n",
       "  [242.1, 97.69, 107.0, 22.553, 2],\n",
       "  [0.734, 229400.0, 194.0, 146204.0, 3],\n",
       "  [92.37, 6229.684, 152.0, 171.702, 4]],\n",
       " [[30188.0, 19.446, 330.0, 0.371, 0],\n",
       "  [1913.21, 623.733, 419.0, 225.801, 1],\n",
       "  [242.1, 112.092, 124.0, 26.743, 2],\n",
       "  [0.734, 233034.0, 206.0, 146502.0, 3],\n",
       "  [92.36, 6232.184, 154.0, 171.702, 4]],\n",
       " [[30187.44, 20.319, 380.0, 0.647, 0],\n",
       "  [1913.21, 651.805, 461.0, 253.383, 1],\n",
       "  [242.1, 132.911, 132.0, 46.216, 2],\n",
       "  [0.734, 238227.0, 214.0, 146787.0, 3],\n",
       "  [92.35, 6236.282, 157.0, 171.702, 4]],\n",
       " [[30187.45, 20.38, 391.0, 0.686, 0],\n",
       "  [1913.21, 653.45, 463.0, 255.028, 1],\n",
       "  [242.1, 135.023, 135.0, 48.328, 2],\n",
       "  [0.734, 243566.0, 218.0, 152126.0, 3],\n",
       "  [92.33, 6237.002, 159.0, 171.702, 4]],\n",
       " [[30187.44, 20.435, 397.0, 0.687, 0],\n",
       "  [1913.21, 654.52, 469.0, 256.098, 1],\n",
       "  [242.1, 142.827, 139.0, 49.828, 2],\n",
       "  [0.734, 247999.0, 224.0, 152254.0, 3],\n",
       "  [92.33, 6237.002, 159.0, 171.702, 4]],\n",
       " [[30187.45, 20.441, 404.0, 0.687, 0],\n",
       "  [1913.21, 655.021, 471.0, 256.599, 1],\n",
       "  [242.1, 144.672, 144.0, 51.673, 2],\n",
       "  [0.734, 248070.0, 226.0, 152308.0, 3],\n",
       "  [92.34, 6238.001, 160.0, 172.701, 4]],\n",
       " [[30187.44, 20.536, 411.0, 0.704, 0],\n",
       "  [1913.21, 656.14, 481.0, 257.718, 1],\n",
       "  [242.1, 148.955, 161.0, 55.8, 2],\n",
       "  [0.734, 256374.0, 242.0, 153508.0, 3],\n",
       "  [92.34, 6257.026, 166.0, 188.501, 4]],\n",
       " [[30187.44, 20.593, 417.0, 0.744, 0],\n",
       "  [1913.3, 663.022, 488.0, 262.027, 1],\n",
       "  [242.1, 155.374, 180.0, 62.022, 2],\n",
       "  [0.734, 256374.0, 242.0, 153508.0, 3],\n",
       "  [92.35, 6258.108, 167.0, 189.583, 4]]]"
      ]
     },
     "execution_count": 21,
     "metadata": {},
     "output_type": "execute_result"
    }
   ],
   "source": [
    "data2"
   ]
  },
  {
   "cell_type": "code",
   "execution_count": 8,
   "metadata": {},
   "outputs": [],
   "source": [
    "from confluent_kafka import Producer\n",
    "import pandas as pd\n",
    "import numpy as np\n",
    "# from faker import Faker\n",
    "import time\n",
    "import json\n",
    "import random"
   ]
  },
  {
   "cell_type": "code",
   "execution_count": 14,
   "metadata": {},
   "outputs": [],
   "source": [
    "def send_data_to_kafka(producer, topic, stream_data):\n",
    "    producer.produce(topic, value=stream_data)\n",
    "    producer.flush()\n",
    " # Initialize producer\n",
    "bootstrap_servers = 'localhost:9091'\n",
    "topic = 'nguyentri'\n",
    "producer = Producer({'bootstrap.servers': bootstrap_servers},)"
   ]
  },
  {
   "cell_type": "code",
   "execution_count": 68,
   "metadata": {},
   "outputs": [
    {
     "name": "stdout",
     "output_type": "stream",
     "text": [
      "oke data\n"
     ]
    }
   ],
   "source": [
    "send_data = json.dumps(data).encode('utf-8')\n",
    "send_data_to_kafka(producer, topic, send_data)\n",
    "print(\"oke data\")"
   ]
  },
  {
   "cell_type": "code",
   "execution_count": 63,
   "metadata": {},
   "outputs": [
    {
     "name": "stdout",
     "output_type": "stream",
     "text": [
      "oke data2\n"
     ]
    }
   ],
   "source": [
    "send_data2 = json.dumps(data2).encode('utf-8')\n",
    "send_data_to_kafka(producer, topic, send_data2)\n",
    "print(\"oke data2\")"
   ]
  },
  {
   "cell_type": "code",
   "execution_count": 13,
   "metadata": {},
   "outputs": [
    {
     "data": {
      "text/plain": [
       "array([[3.016589e+04, 1.694710e+02, 3.548000e+03, 7.691700e+01,\n",
       "        0.000000e+00, 1.915460e+03, 2.849366e+03, 3.288000e+03,\n",
       "        1.009989e+03, 1.000000e+00, 2.422000e+02, 2.471344e+03,\n",
       "        1.135000e+03, 1.006388e+03, 2.000000e+00, 7.310000e-01,\n",
       "        2.625494e+06, 1.999000e+03, 1.436714e+06, 3.000000e+00,\n",
       "        9.220000e+01, 8.939336e+03, 1.374000e+03, 4.056845e+03,\n",
       "        4.000000e+00, 3.017459e+04, 1.732500e+02, 3.681000e+03,\n",
       "        7.964700e+01, 0.000000e+00, 1.916210e+03, 2.908055e+03,\n",
       "        3.363000e+03, 1.043765e+03, 1.000000e+00, 2.423000e+02,\n",
       "        2.549822e+03, 1.169000e+03, 1.074002e+03, 2.000000e+00,\n",
       "        7.320000e-01, 2.712969e+06, 2.053000e+03, 1.498003e+06,\n",
       "        3.000000e+00, 9.221000e+01, 8.941156e+03, 1.377000e+03,\n",
       "        4.058665e+03, 4.000000e+00, 3.017460e+04, 1.737380e+02,\n",
       "        3.693000e+03, 7.966300e+01, 0.000000e+00, 1.916260e+03,\n",
       "        2.988733e+03, 3.436000e+03, 1.107925e+03, 1.000000e+00,\n",
       "        2.422000e+02, 2.557065e+03, 1.172000e+03, 1.074028e+03,\n",
       "        2.000000e+00, 7.320000e-01, 2.728769e+06, 2.077000e+03,\n",
       "        1.503996e+06, 3.000000e+00, 9.222000e+01, 9.041742e+03,\n",
       "        1.391000e+03, 4.155117e+03, 4.000000e+00, 3.017664e+04,\n",
       "        1.775230e+02, 3.761000e+03, 8.031600e+01, 0.000000e+00,\n",
       "        1.916040e+03, 3.050501e+03, 3.505000e+03, 1.118717e+03,\n",
       "        1.000000e+00, 2.424000e+02, 2.573929e+03, 1.188000e+03,\n",
       "        1.081722e+03, 2.000000e+00, 7.320000e-01, 2.844729e+06,\n",
       "        2.158000e+03, 1.561799e+06, 3.000000e+00, 9.230000e+01,\n",
       "        9.139186e+03, 1.433000e+03, 4.246079e+03, 4.000000e+00,\n",
       "        3.017992e+04, 1.801370e+02, 3.845000e+03, 8.213500e+01,\n",
       "        0.000000e+00, 1.916460e+03, 3.078577e+03, 3.546000e+03,\n",
       "        1.146627e+03, 1.000000e+00, 2.425000e+02, 2.582969e+03,\n",
       "        1.208000e+03, 1.090686e+03, 2.000000e+00, 7.320000e-01,\n",
       "        2.856895e+06, 2.169000e+03, 1.564531e+06, 3.000000e+00,\n",
       "        9.229000e+01, 9.166949e+03, 1.448000e+03, 4.252840e+03,\n",
       "        4.000000e+00, 3.018400e+04, 1.816290e+02, 3.906000e+03,\n",
       "        8.359000e+01, 0.000000e+00, 1.916410e+03, 3.085514e+03,\n",
       "        3.558000e+03, 1.149453e+03, 1.000000e+00, 2.424000e+02,\n",
       "        2.679104e+03, 1.226000e+03, 1.091305e+03, 2.000000e+00,\n",
       "        7.330000e-01, 2.862947e+06, 2.195000e+03, 1.570303e+06,\n",
       "        3.000000e+00, 9.233000e+01, 9.181154e+03, 1.462000e+03,\n",
       "        4.267045e+03, 4.000000e+00, 3.018598e+04, 1.818520e+02,\n",
       "        3.931000e+03, 8.366500e+01, 0.000000e+00, 1.916410e+03,\n",
       "        3.085801e+03, 3.568000e+03, 1.149721e+03, 1.000000e+00,\n",
       "        2.425000e+02, 2.688119e+03, 1.238000e+03, 1.099344e+03,\n",
       "        2.000000e+00, 7.330000e-01, 2.900544e+06, 2.225000e+03,\n",
       "        1.577919e+06, 3.000000e+00, 9.232000e+01, 9.262838e+03,\n",
       "        1.470000e+03, 4.267359e+03, 4.000000e+00, 3.018599e+04,\n",
       "        1.823260e+02, 3.946000e+03, 8.373000e+01, 0.000000e+00,\n",
       "        1.916410e+03, 3.086659e+03, 3.572000e+03, 1.149771e+03,\n",
       "        1.000000e+00, 2.424000e+02, 2.705811e+03, 1.256000e+03,\n",
       "        1.109204e+03, 2.000000e+00, 7.330000e-01, 2.943649e+06,\n",
       "        2.255000e+03, 1.581002e+06, 3.000000e+00, 9.232000e+01,\n",
       "        9.268253e+03, 1.472000e+03, 4.267359e+03, 4.000000e+00,\n",
       "        3.018599e+04, 1.832530e+02, 3.969000e+03, 8.455800e+01,\n",
       "        0.000000e+00, 1.916410e+03, 3.087066e+03, 3.577000e+03,\n",
       "        1.149877e+03, 1.000000e+00, 2.425000e+02, 2.712666e+03,\n",
       "        1.267000e+03, 1.110279e+03, 2.000000e+00, 7.330000e-01,\n",
       "        2.978272e+06, 2.287000e+03, 1.609640e+06, 3.000000e+00,\n",
       "        9.233000e+01, 9.274997e+03, 1.476000e+03, 4.274103e+03,\n",
       "        4.000000e+00, 3.018599e+04, 4.300000e-02, 3.100000e+01,\n",
       "        2.500000e-02, 0.000000e+00, 1.916750e+03, 4.800000e-01,\n",
       "        2.600000e+01, 2.080000e-01, 1.000000e+00, 2.426000e+02,\n",
       "        3.752800e+01, 1.100000e+01, 3.742500e+01, 2.000000e+00,\n",
       "        7.330000e-01, 1.310700e+04, 1.800000e+01, 6.262000e+03,\n",
       "        3.000000e+00, 9.236000e+01, 2.700000e+00, 6.000000e+00,\n",
       "        2.500000e+00, 4.000000e+00]])"
      ]
     },
     "execution_count": 13,
     "metadata": {},
     "output_type": "execute_result"
    }
   ],
   "source": [
    "np.array(data).reshape(1,250)"
   ]
  },
  {
   "cell_type": "code",
   "execution_count": 45,
   "metadata": {},
   "outputs": [
    {
     "data": {
      "text/plain": [
       "[[[30300.01, 12.53, 723.0, 3.354, 0],\n",
       "  [1934.72, 106.28, 316.0, 43.397, 1],\n",
       "  [250.3, 177.484, 171.0, 32.873, 2],\n",
       "  [0.722, 528558.0, 409.0, 196453.0, 3],\n",
       "  [94.69, 296.806, 137.0, 191.537, 4]],\n",
       " [[30300.01, 12.543, 725.0, 3.356, 0],\n",
       "  [1934.71, 109.416, 320.0, 46.526, 1],\n",
       "  [250.2, 177.538, 172.0, 32.873, 2],\n",
       "  [0.722, 528855.0, 410.0, 196453.0, 3],\n",
       "  [94.69, 296.879, 138.0, 191.61, 4]],\n",
       " [[30300.01, 12.605, 727.0, 3.406, 0],\n",
       "  [1934.72, 109.469, 321.0, 46.579, 1],\n",
       "  [250.3, 178.29, 174.0, 32.892, 2],\n",
       "  [0.722, 544553.0, 421.0, 196453.0, 3],\n",
       "  [94.69, 297.348, 140.0, 192.079, 4]],\n",
       " [[30300.01, 12.621, 729.0, 3.422, 0],\n",
       "  [1934.72, 109.469, 321.0, 46.579, 1],\n",
       "  [250.3, 178.429, 175.0, 33.031, 2],\n",
       "  [0.722, 544553.0, 421.0, 196453.0, 3],\n",
       "  [94.69, 297.348, 140.0, 192.079, 4]],\n",
       " [[30300.01, 12.622, 731.0, 3.423, 0],\n",
       "  [1934.71, 109.583, 323.0, 46.579, 1],\n",
       "  [250.2, 178.829, 176.0, 33.031, 2],\n",
       "  [0.722, 544570.0, 422.0, 196470.0, 3],\n",
       "  [94.68, 297.947, 142.0, 192.46, 4]],\n",
       " [[30300.01, 12.622, 732.0, 3.423, 0],\n",
       "  [1934.71, 109.602, 325.0, 46.584, 1],\n",
       "  [250.3, 179.033, 178.0, 33.085, 2],\n",
       "  [0.722, 550707.0, 428.0, 201331.0, 3],\n",
       "  [94.68, 297.947, 142.0, 192.46, 4]],\n",
       " [[30300.01, 12.691, 738.0, 3.49, 0],\n",
       "  [1934.71, 113.774, 330.0, 50.714, 1],\n",
       "  [250.3, 179.185, 181.0, 33.216, 2],\n",
       "  [0.722, 550707.0, 428.0, 201331.0, 3],\n",
       "  [94.68, 297.947, 142.0, 192.46, 4]],\n",
       " [[30300.01, 12.999, 744.0, 3.797, 0],\n",
       "  [1934.71, 117.77, 335.0, 54.44, 1],\n",
       "  [250.3, 179.185, 181.0, 33.216, 2],\n",
       "  [0.722, 551203.0, 432.0, 201531.0, 3],\n",
       "  [94.69, 298.779, 143.0, 193.292, 4]],\n",
       " [[30300.0, 13.022, 745.0, 3.797, 0],\n",
       "  [1934.71, 117.787, 336.0, 54.44, 1],\n",
       "  [250.2, 179.493, 183.0, 33.216, 2],\n",
       "  [0.722, 561069.0, 441.0, 201531.0, 3],\n",
       "  [94.69, 298.779, 143.0, 193.292, 4]],\n",
       " [[30300.01, 13.122, 750.0, 3.873, 0],\n",
       "  [1934.71, 117.965, 338.0, 54.44, 1],\n",
       "  [250.2, 179.493, 183.0, 33.216, 2],\n",
       "  [0.722, 561288.0, 442.0, 201531.0, 3],\n",
       "  [94.68, 308.638, 145.0, 193.292, 4]]]"
      ]
     },
     "execution_count": 45,
     "metadata": {},
     "output_type": "execute_result"
    }
   ],
   "source": [
    "data"
   ]
  },
  {
   "cell_type": "code",
   "execution_count": 24,
   "metadata": {},
   "outputs": [
    {
     "data": {
      "text/plain": [
       "1"
      ]
     },
     "execution_count": 24,
     "metadata": {},
     "output_type": "execute_result"
    }
   ],
   "source": []
  },
  {
   "cell_type": "code",
   "execution_count": 2,
   "metadata": {},
   "outputs": [
    {
     "name": "stdout",
     "output_type": "stream",
     "text": [
      "2.0.1+cpu\n"
     ]
    }
   ],
   "source": [
    "import torch\n",
    "print(torch.__version__)"
   ]
  },
  {
   "cell_type": "code",
   "execution_count": null,
   "metadata": {},
   "outputs": [],
   "source": []
  },
  {
   "cell_type": "code",
   "execution_count": null,
   "metadata": {},
   "outputs": [],
   "source": []
  },
  {
   "cell_type": "code",
   "execution_count": null,
   "metadata": {},
   "outputs": [],
   "source": []
  },
  {
   "cell_type": "code",
   "execution_count": null,
   "metadata": {},
   "outputs": [],
   "source": []
  }
 ],
 "metadata": {
  "kernelspec": {
   "display_name": "Python 3",
   "language": "python",
   "name": "python3"
  },
  "language_info": {
   "codemirror_mode": {
    "name": "ipython",
    "version": 3
   },
   "file_extension": ".py",
   "mimetype": "text/x-python",
   "name": "python",
   "nbconvert_exporter": "python",
   "pygments_lexer": "ipython3",
   "version": "3.10.11"
  },
  "orig_nbformat": 4
 },
 "nbformat": 4,
 "nbformat_minor": 2
}
